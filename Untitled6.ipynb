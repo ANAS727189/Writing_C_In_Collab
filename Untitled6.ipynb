{
  "nbformat": 4,
  "nbformat_minor": 0,
  "metadata": {
    "colab": {
      "provenance": [],
      "mount_file_id": "1scBJETz6vJ_PxoyK-7vUL8WuNgjzPLmZ",
      "authorship_tag": "ABX9TyPY1EVK7L1o6SBy1Y4WzStG",
      "include_colab_link": true
    },
    "kernelspec": {
      "name": "python3",
      "display_name": "Python 3"
    },
    "language_info": {
      "name": "python"
    }
  },
  "cells": [
    {
      "cell_type": "markdown",
      "metadata": {
        "id": "view-in-github",
        "colab_type": "text"
      },
      "source": [
        "<a href=\"https://colab.research.google.com/github/ANAS727189/Writing_C_In_Collab/blob/main/Untitled6.ipynb\" target=\"_parent\"><img src=\"https://colab.research.google.com/assets/colab-badge.svg\" alt=\"Open In Colab\"/></a>"
      ]
    },
    {
      "cell_type": "code",
      "execution_count": 165,
      "metadata": {
        "id": "qv3TBmm6i6jk"
      },
      "outputs": [],
      "source": [
        "!mkdir anas"
      ]
    },
    {
      "cell_type": "code",
      "source": [
        "!rmdir anas"
      ],
      "metadata": {
        "id": "6X1gPCMAkBHY"
      },
      "execution_count": 166,
      "outputs": []
    },
    {
      "cell_type": "code",
      "source": [
        "!touch anas2"
      ],
      "metadata": {
        "id": "s98neLQrkQGs"
      },
      "execution_count": 167,
      "outputs": []
    },
    {
      "cell_type": "code",
      "source": [
        "!ls anas"
      ],
      "metadata": {
        "id": "3oInDx1qlGaE",
        "colab": {
          "base_uri": "https://localhost:8080/"
        },
        "outputId": "448cc5a1-e7c4-4479-f2f1-8a6d05ff4763"
      },
      "execution_count": 168,
      "outputs": [
        {
          "output_type": "stream",
          "name": "stdout",
          "text": [
            "ls: cannot access 'anas': No such file or directory\n"
          ]
        }
      ]
    },
    {
      "cell_type": "markdown",
      "source": [
        "#THIS IS FOR EG-101 PRACTISE\n",
        "## By - VK RAJ SIR"
      ],
      "metadata": {
        "id": "fCVQi4kKpLOC"
      }
    },
    {
      "cell_type": "code",
      "source": [
        "!cd Mydrive"
      ],
      "metadata": {
        "colab": {
          "base_uri": "https://localhost:8080/"
        },
        "id": "ZQhxt7dIlXCZ",
        "outputId": "9fb2f619-d15a-4809-9fcc-1f2fe9f156f1"
      },
      "execution_count": 169,
      "outputs": [
        {
          "output_type": "stream",
          "name": "stdout",
          "text": [
            "/bin/bash: line 1: cd: Mydrive: No such file or directory\n"
          ]
        }
      ]
    },
    {
      "cell_type": "code",
      "source": [
        "!cd anas"
      ],
      "metadata": {
        "id": "Bza3eUZvln_D",
        "colab": {
          "base_uri": "https://localhost:8080/"
        },
        "outputId": "03d1aaaf-68c3-49b2-9dbd-29dff470209e"
      },
      "execution_count": 170,
      "outputs": [
        {
          "output_type": "stream",
          "name": "stdout",
          "text": [
            "/bin/bash: line 1: cd: anas: No such file or directory\n"
          ]
        }
      ]
    },
    {
      "cell_type": "code",
      "source": [
        "!mkdir EG101Practise"
      ],
      "metadata": {
        "id": "y8_YYt3Olwsu",
        "colab": {
          "base_uri": "https://localhost:8080/"
        },
        "outputId": "a0ec03eb-0d7d-4a77-d703-6ea3f7add1c5"
      },
      "execution_count": 171,
      "outputs": [
        {
          "output_type": "stream",
          "name": "stdout",
          "text": [
            "mkdir: cannot create directory ‘EG101Practise’: File exists\n"
          ]
        }
      ]
    },
    {
      "cell_type": "code",
      "source": [
        "!cd EG101Practise"
      ],
      "metadata": {
        "id": "ayNMXQDJmbEN"
      },
      "execution_count": 172,
      "outputs": []
    },
    {
      "cell_type": "code",
      "source": [
        "!mkdir \"C Programs\""
      ],
      "metadata": {
        "colab": {
          "base_uri": "https://localhost:8080/"
        },
        "id": "XGpIiNvlmoBq",
        "outputId": "3d621b7c-3baf-42e0-9edb-db190fd93933"
      },
      "execution_count": 173,
      "outputs": [
        {
          "output_type": "stream",
          "name": "stdout",
          "text": [
            "mkdir: cannot create directory ‘C Programs’: File exists\n"
          ]
        }
      ]
    },
    {
      "cell_type": "code",
      "source": [
        "!cd  \"C Programs\""
      ],
      "metadata": {
        "id": "-5SsVN1omr-A"
      },
      "execution_count": 174,
      "outputs": []
    },
    {
      "cell_type": "code",
      "source": [
        "from google.colab import drive\n",
        "drive.mount('/content/drive')"
      ],
      "metadata": {
        "colab": {
          "base_uri": "https://localhost:8080/"
        },
        "id": "5M3SJYNTnBAO",
        "outputId": "892b7786-cbc0-4d47-d176-3d24624e1fd0"
      },
      "execution_count": 175,
      "outputs": [
        {
          "output_type": "stream",
          "name": "stdout",
          "text": [
            "Drive already mounted at /content/drive; to attempt to forcibly remount, call drive.mount(\"/content/drive\", force_remount=True).\n"
          ]
        }
      ]
    },
    {
      "cell_type": "code",
      "source": [
        "drive.mount(\"/content/drive\", force_remount=True)"
      ],
      "metadata": {
        "colab": {
          "base_uri": "https://localhost:8080/"
        },
        "id": "R1nzhbI7ndfQ",
        "outputId": "1210dd09-0b8b-405e-f0c8-dd20b160c34c"
      },
      "execution_count": 176,
      "outputs": [
        {
          "output_type": "stream",
          "name": "stdout",
          "text": [
            "Mounted at /content/drive\n"
          ]
        }
      ]
    },
    {
      "cell_type": "code",
      "source": [
        "%%writefile Hello.c\n",
        "#include<stdio.h>\n",
        "int main(){\n",
        "  int a ;\n",
        "  scanf(\"%d\" , &a);\n",
        "  if(a & 1)  printf(\"Hello!,        World\");\n",
        "  else printf(\"Idiot\");\n",
        "  return 0;\n",
        "}"
      ],
      "metadata": {
        "colab": {
          "base_uri": "https://localhost:8080/"
        },
        "id": "RNClOI0ZnnEE",
        "outputId": "26e83b64-198c-4333-ba92-766ec2710e37"
      },
      "execution_count": 177,
      "outputs": [
        {
          "output_type": "stream",
          "name": "stdout",
          "text": [
            "Overwriting Hello.c\n"
          ]
        }
      ]
    },
    {
      "cell_type": "code",
      "source": [
        "!gcc Hello.c -o Hello"
      ],
      "metadata": {
        "id": "3UPBb5w3oTRz"
      },
      "execution_count": 178,
      "outputs": []
    },
    {
      "cell_type": "code",
      "source": [
        "!./Hello"
      ],
      "metadata": {
        "colab": {
          "base_uri": "https://localhost:8080/"
        },
        "id": "MekWW-vEogcG",
        "outputId": "1ebe7e03-bb40-40b2-d51a-24836d3d503e"
      },
      "execution_count": 179,
      "outputs": [
        {
          "output_type": "stream",
          "name": "stdout",
          "text": [
            "^C\n"
          ]
        }
      ]
    },
    {
      "cell_type": "code",
      "source": [
        "%%writefile hello.cpp\n",
        "\n",
        "#include <iostream>\n",
        "using namespace std;\n",
        "\n",
        "int main() {\n",
        "    int a;\n",
        "    cin>>a;\n",
        "    if(a==5) cout << \"Hello, world!\" << endl;\n",
        "    else cout<<\"You are dumb\";\n",
        "    return 0;\n",
        "}\n"
      ],
      "metadata": {
        "colab": {
          "base_uri": "https://localhost:8080/"
        },
        "id": "gUOhEgaRsU9D",
        "outputId": "dc4c5e87-2f9b-4b6c-b65c-00e78f1b3280"
      },
      "execution_count": 183,
      "outputs": [
        {
          "output_type": "stream",
          "name": "stdout",
          "text": [
            "Overwriting hello.cpp\n"
          ]
        }
      ]
    },
    {
      "cell_type": "code",
      "source": [
        "!g++ hello.cpp -o hello.out"
      ],
      "metadata": {
        "id": "OQkY_c9jstDf"
      },
      "execution_count": 184,
      "outputs": []
    },
    {
      "cell_type": "code",
      "source": [
        "!./hello.out"
      ],
      "metadata": {
        "id": "31abSbfLs8k8",
        "colab": {
          "base_uri": "https://localhost:8080/"
        },
        "outputId": "550c62da-7cde-4058-d0b0-b73e94373d79"
      },
      "execution_count": 187,
      "outputs": [
        {
          "output_type": "stream",
          "name": "stdout",
          "text": [
            "5\n",
            "Hello, world!\n"
          ]
        }
      ]
    }
  ]
}